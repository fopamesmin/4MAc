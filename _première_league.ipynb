{
  "nbformat": 4,
  "nbformat_minor": 0,
  "metadata": {
    "colab": {
      "provenance": [],
      "authorship_tag": "ABX9TyNWI6ZVjU4sBYXoaRQMH9kI",
      "include_colab_link": true
    },
    "kernelspec": {
      "name": "python3",
      "display_name": "Python 3"
    },
    "language_info": {
      "name": "python"
    }
  },
  "cells": [
    {
      "cell_type": "markdown",
      "metadata": {
        "id": "view-in-github",
        "colab_type": "text"
      },
      "source": [
        "<a href=\"https://colab.research.google.com/github/fopamesmin/4MAc/blob/main/_premi%C3%A8re_league.ipynb\" target=\"_parent\"><img src=\"https://colab.research.google.com/assets/colab-badge.svg\" alt=\"Open In Colab\"/></a>"
      ]
    },
    {
      "cell_type": "code",
      "execution_count": 2,
      "metadata": {
        "colab": {
          "base_uri": "https://localhost:8080/"
        },
        "id": "NAahL74W0hO0",
        "outputId": "70a63701-a457-4e82-b819-f868e584afda"
      },
      "outputs": [
        {
          "output_type": "stream",
          "name": "stdout",
          "text": [
            "Drive already mounted at /content/drive; to attempt to forcibly remount, call drive.mount(\"/content/drive\", force_remount=True).\n",
            "Données enregistrées dans Google Drive à l'emplacement: /content/drive/My Drive/test10premier_league_data.csv\n"
          ]
        }
      ],
      "source": [
        "import requests as req\n",
        "from bs4 import BeautifulSoup as BS\n",
        "import logging\n",
        "import pandas as pd\n",
        "from google.colab import drive\n",
        "\n",
        "# Constantes\n",
        "premier_league_url = \"https://www.premierleague.com/tables\"\n",
        "COLUMNS = [\"Position\", \"Club\", \"Played\", \"Won\", \"Drawn\", \"Lost\", \"GF\", \"GA\", \"GD\", \"Points\"]\n",
        "ID_seasonId = [\"2020/2021\", \"2021/2022\", \"2022/2023\"]\n",
        "headers = {\n",
        "    'User-Agent': 'Mozilla/5.0 (Macintosh; Intel Mac OS X 10_11_5) AppleWebKit/537.36 (KHTML, like Gecko) Chrome/50.0.2661.102 Safari/537.36'\n",
        "}\n",
        "logging.basicConfig(level=logging.INFO)\n",
        "\n",
        "def fetch_data(season):\n",
        "    teams_list = []\n",
        "    response = req.get(premier_league_url, headers=headers)\n",
        "    if response.status_code == req.codes.ok:\n",
        "        soup = BS(response.content, \"html.parser\")\n",
        "        tbody = soup.find(\"tbody\", class_=\"league-table__tbody\")\n",
        "\n",
        "        if tbody:\n",
        "            rows = tbody.find_all(\"tr\")\n",
        "\n",
        "            for row in rows:\n",
        "                team_data = []\n",
        "                try:\n",
        "                    position_span = row.find(\"span\", class_=\"league-table__value\")\n",
        "                    team_td = row.find(\"td\", class_=\"league-table__team\")\n",
        "                    stats = row.find_all(\"td\")\n",
        "\n",
        "                    if position_span and team_td and len(stats) >= 10:\n",
        "                        position = position_span.text.strip()\n",
        "                        team = team_td.text.strip()\n",
        "\n",
        "                        played = stats[2].text.strip()\n",
        "                        won = stats[3].text.strip()\n",
        "                        drawn = stats[4].text.strip()\n",
        "                        lost = stats[5].text.strip()\n",
        "                        gf = stats[6].text.strip()\n",
        "                        ga = stats[7].text.strip()\n",
        "                        gd = stats[8].text.strip()\n",
        "                        points = stats[9].text.strip()\n",
        "\n",
        "                        team_data.extend([season, position, team, played, won, drawn, lost, gf, ga, gd, points])\n",
        "                        teams_list.append(team_data)\n",
        "                except Exception as e:\n",
        "                    logging.error(f\"Error parsing row: {e}\")\n",
        "                    continue\n",
        "        else:\n",
        "            logging.error(\"Table body not found.\")\n",
        "    else:\n",
        "        logging.error(\"Failed to retrieve data.\")\n",
        "\n",
        "    return teams_list\n",
        "\n",
        "\n",
        "\n",
        "# Extraction des données pour toutes les saisons\n",
        "all_teams_list = []\n",
        "for season in ID_seasonId:\n",
        "    all_teams_list.extend(fetch_data(season))\n",
        "\n",
        "# Convertir la liste en DataFrame pandas\n",
        "df = pd.DataFrame(all_teams_list, columns=[\"Season\"] + COLUMNS)\n",
        "\n",
        "# Convertir les colonnes en types numériques\n",
        "df['Played'] = pd.to_numeric(df['Played'], errors='coerce')\n",
        "df['Won'] = pd.to_numeric(df['Won'], errors='coerce')\n",
        "df['Drawn'] = pd.to_numeric(df['Drawn'], errors='coerce')\n",
        "df['Lost'] = pd.to_numeric(df['Lost'], errors='coerce')\n",
        "df['GF'] = pd.to_numeric(df['GF'], errors='coerce')\n",
        "df['GA'] = pd.to_numeric(df['GA'], errors='coerce')\n",
        "df['GD'] = pd.to_numeric(df['GD'], errors='coerce')\n",
        "df['Points'] = pd.to_numeric(df['Points'], errors='coerce')\n",
        "\n",
        "# Monter Google Drive\n",
        "drive.mount('/content/drive')\n",
        "\n",
        "# Enregistrer le dataframe dans Google Drive\n",
        "file_path = '/content/drive/My Drive/test10premier_league_data.csv'\n",
        "df.to_csv(file_path, header=True, index=False)\n",
        "\n",
        "print(f\"Données enregistrées dans Google Drive à l'emplacement: {file_path}\")"
      ]
    }
  ]
}