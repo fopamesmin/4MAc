{
  "nbformat": 4,
  "nbformat_minor": 0,
  "metadata": {
    "colab": {
      "provenance": [],
      "authorship_tag": "ABX9TyNRFDg3iD2xwQBcdTJjG9sf",
      "include_colab_link": true
    },
    "kernelspec": {
      "name": "python3",
      "display_name": "Python 3"
    },
    "language_info": {
      "name": "python"
    }
  },
  "cells": [
    {
      "cell_type": "markdown",
      "metadata": {
        "id": "view-in-github",
        "colab_type": "text"
      },
      "source": [
        "<a href=\"https://colab.research.google.com/github/fopamesmin/4MAc/blob/main/_Liga.ipynb\" target=\"_parent\"><img src=\"https://colab.research.google.com/assets/colab-badge.svg\" alt=\"Open In Colab\"/></a>"
      ]
    },
    {
      "cell_type": "code",
      "execution_count": null,
      "metadata": {
        "colab": {
          "base_uri": "https://localhost:8080/"
        },
        "id": "RdyI1t_fyxGU",
        "outputId": "bf7acb41-2d23-416d-aea5-53aff8ea1d95"
      },
      "outputs": [
        {
          "output_type": "stream",
          "name": "stdout",
          "text": [
            "Drive already mounted at /content/drive; to attempt to forcibly remount, call drive.mount(\"/content/drive\", force_remount=True).\n",
            "Données enregistrées dans Google Drive à l'emplacement : /content/drive/My Drive/laliga_data.csv\n"
          ]
        }
      ],
      "source": [
        "import pandas as pd\n",
        "import requests as req\n",
        "from bs4 import BeautifulSoup as BS\n",
        "import logging\n",
        "from google.colab import drive\n",
        "\n",
        "# Constants\n",
        "sofifa_url = \"https://www.laliga.com/en-ES/laliga-easports/standing\"\n",
        "COLUMNS = [\"position\", \"team\", \"Points\", \"W\", \"D\", \"L\", \"GF\", \"GA\", \"GD\"]\n",
        "ID_seasonId = [\"2020/2021\", \"2021/2022\", \"2022/2023\"]\n",
        "headers = {'User-Agent': 'Mozilla/5.0 (Macintosh; Intel Mac OS X 10_11_5) AppleWebKit/537.36 (KHTML, like Gecko) Chrome/50.0.2661.102 Safari/537.36'}\n",
        "logging.basicConfig(level=logging.INFO)\n",
        "\n",
        "def fetch_data(season):\n",
        "    teams_list = []\n",
        "    response = req.get(sofifa_url, headers=headers)\n",
        "    if response.status_code == req.codes.ok:\n",
        "        soup = BS(response.content, \"lxml\")\n",
        "        rows = soup.select(\"div.styled__StandingTabBody-sc-e89col-0.isRHqh\")\n",
        "        for row in rows:\n",
        "            team_data = []\n",
        "            try:\n",
        "                position = row.find(\"div\", class_=\"styled__Td-sc-e89col-10 fTFWtb\").find(\"p\").text.strip()\n",
        "                team = row.find(\"div\", class_=\"styled__ShieldContainer-sc-1opls7r-0 eIaTDi shield-desktop\").find(\"p\").text.strip()\n",
        "                points = row.find_all(\"div\", class_=\"styled__Td-sc-e89col-10 feNufd\")[0].find(\"p\").text.strip()\n",
        "                w = row.find_all(\"div\", class_=\"styled__Td-sc-e89col-10 feNufd\")[1].find(\"p\").text.strip()\n",
        "                d = row.find_all(\"div\", class_=\"styled__Td-sc-e89col-10 feNufd\")[2].find(\"p\").text.strip()\n",
        "                l = row.find_all(\"div\", class_=\"styled__Td-sc-e89col-10 feNufd\")[3].find(\"p\").text.strip()\n",
        "                gf = row.find_all(\"div\", class_=\"styled__Td-sc-e89col-10 feNufd\")[4].find(\"p\").text.strip()\n",
        "                ga = row.find_all(\"div\", class_=\"styled__Td-sc-e89col-10 feNufd\")[5].find(\"p\").text.strip()\n",
        "                gd = row.find_all(\"div\", class_=\"styled__Td-sc-e89col-10 feNufd\")[6].find(\"p\").text.strip()\n",
        "\n",
        "                # Ajouter le dictionnaire pour renommer les colonnes\n",
        "                rename_columns = {\n",
        "                    'W': 'Won',\n",
        "                    'D': 'Drawn',\n",
        "                    'L': 'Lost'\n",
        "                }\n",
        "\n",
        "                # Étendre les données de l'équipe avec la saison et les colonnes renommées\n",
        "                team_data.extend([position, team, points, w, d, l, gf, ga, gd])\n",
        "                teams_list.append(team_data)\n",
        "            except Exception as e:\n",
        "                logging.error(f\"Error parsing row: {e}\")\n",
        "                continue\n",
        "    else:\n",
        "        logging.error(f\"Failed to retrieve data for season {season}\")\n",
        "    return teams_list\n",
        "\n",
        "# Monter Google Drive\n",
        "drive.mount('/content/drive')\n",
        "\n",
        "# Extraction des données pour toutes les saisons\n",
        "all_teams_list = []\n",
        "for season in ID_seasonId:\n",
        "    all_teams_list.extend(fetch_data(season))\n",
        "\n",
        "# Convertir la liste en DataFrame pandas avec les noms de colonnes renommés\n",
        "df = pd.DataFrame(all_teams_list, columns=[\"position\", \"team\", \"Points\", \"Won\", \"Drawn\", \"Lost\", \"GF\", \"GA\", \"GD\"])\n",
        "\n",
        "# Enregistrer le dataframe dans Google Drive avec les nouveaux noms de colonnes\n",
        "file_path = '/content/drive/My Drive/laliga_data.csv'\n",
        "df.to_csv(file_path, header=True, index=False)\n",
        "\n",
        "print(f\"Données enregistrées dans Google Drive à l'emplacement : {file_path}\")"
      ]
    },
    {
      "cell_type": "code",
      "source": [
        "import pandas as pd\n",
        "from google.colab import drive\n",
        "\n",
        "# Monter Google Drive\n",
        "drive.mount('/content/drive')\n",
        "\n",
        "# Chemin vers votre fichier CSV existant dans Google Drive\n",
        "file_path = '/content/drive/My Drive/laliga_data.csv'\n",
        "\n",
        "# Chargement du DataFrame depuis le fichier CSV existant\n",
        "df = pd.read_csv(file_path)\n",
        "\n",
        "# Ajout de la colonne Played en calculant la somme de Won, Drawn et Lost\n",
        "df['Played'] = df['W'] + df['D'] + df['L']\n",
        "\n",
        "# Dictionnaire pour renommer les colonnes\n",
        "rename_columns = {\n",
        "    'W': 'Won',\n",
        "    'D': 'Drawn',\n",
        "    'L': 'Lost'\n",
        "}\n",
        "\n",
        "# Renommer les colonnes\n",
        "df.rename(columns=rename_columns, inplace=True)\n",
        "\n",
        "# Sauvegarder le DataFrame avec les colonnes renommées et la colonne Played dans un nouveau fichier CSV\n",
        "new_file_path = '/content/drive/My Drive/laliga_data.csv'\n",
        "df.to_csv(new_file_path, index=False)\n",
        "\n",
        "print(f\"Données avec colonnes renommées et colonne Played ajoutée enregistrées dans Google Drive : {new_file_path}\")"
      ],
      "metadata": {
        "colab": {
          "base_uri": "https://localhost:8080/"
        },
        "id": "e7s1mKE0OwLo",
        "outputId": "e102696b-3116-4914-a95a-f3a16211db1e"
      },
      "execution_count": 8,
      "outputs": [
        {
          "output_type": "stream",
          "name": "stdout",
          "text": [
            "Drive already mounted at /content/drive; to attempt to forcibly remount, call drive.mount(\"/content/drive\", force_remount=True).\n",
            "Données avec colonnes renommées et colonne Played ajoutée enregistrées dans Google Drive : /content/drive/My Drive/laliga_data.csv\n"
          ]
        }
      ]
    }
  ]
}